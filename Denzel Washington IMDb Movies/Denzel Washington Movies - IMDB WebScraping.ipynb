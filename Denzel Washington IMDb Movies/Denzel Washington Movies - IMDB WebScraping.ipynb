{
 "cells": [
  {
   "cell_type": "markdown",
   "metadata": {},
   "source": [
    "# Webscraping on IMDb to get data from Denzel Washington movies "
   ]
  },
  {
   "cell_type": "markdown",
   "metadata": {},
   "source": [
    "## Getting data - Movie Title, links and year... \n",
    "Inspiration came from this script: https://github.com/SCloves/filmes_de_natal_iMDb/blob/master/filmes_natal_iMBDb.ipynb"
   ]
  },
  {
   "cell_type": "code",
   "execution_count": 1,
   "metadata": {},
   "outputs": [],
   "source": [
    "import requests \n",
    "from bs4 import BeautifulSoup \n",
    "import pandas as pd \n",
    "import re"
   ]
  },
  {
   "cell_type": "code",
   "execution_count": 2,
   "metadata": {},
   "outputs": [],
   "source": [
    "# Denzel's movie list...\n",
    "url_fonte = 'http://www.imdb.com/name/nm0000243/?ref_=nv_sr_1'"
   ]
  },
  {
   "cell_type": "code",
   "execution_count": 3,
   "metadata": {},
   "outputs": [],
   "source": [
    "# Connecting on the page\n",
    "con = requests.get(url_fonte)"
   ]
  },
  {
   "cell_type": "code",
   "execution_count": 4,
   "metadata": {},
   "outputs": [
    {
     "data": {
      "text/plain": [
       "200"
      ]
     },
     "execution_count": 4,
     "metadata": {},
     "output_type": "execute_result"
    }
   ],
   "source": [
    "con.status_code"
   ]
  },
  {
   "cell_type": "code",
   "execution_count": 5,
   "metadata": {},
   "outputs": [],
   "source": [
    "# Creating BeautifulSoup object \n",
    "soup = BeautifulSoup(con.content, \"html.parser\")"
   ]
  },
  {
   "cell_type": "code",
   "execution_count": null,
   "metadata": {},
   "outputs": [],
   "source": [
    "#print(soup.prettify())"
   ]
  },
  {
   "cell_type": "code",
   "execution_count": 6,
   "metadata": {},
   "outputs": [],
   "source": [
    "# Getting everything about Denzel's participations in productions\n",
    "nomeFilmeTudo = [tag.find('a') for tag in soup.findAll('div', class_='filmo-row')]\n",
    "#nomeFilmeTudo"
   ]
  },
  {
   "cell_type": "code",
   "execution_count": 7,
   "metadata": {},
   "outputs": [],
   "source": [
    "#Using re to clean data  \n",
    "\n",
    "anoFilmeTudo = [tag.find('span') for tag in soup.findAll('div', class_='filmo-row')]\n",
    "\n",
    "anosFilmes = []\n",
    "for num in anoFilmeTudo:\n",
    "    id = anoFilmeTudo.index(num)\n",
    "    c = re.findall('\\d+', str(anoFilmeTudo[id]))\n",
    "    c = re.sub(\"\\['\", '', str(c))\n",
    "    c = re.sub(\"\\']\", '', str(c))\n",
    "    c = re.sub(\"\\'\\,\", ' -', str(c))\n",
    "    c = re.sub(\"\\ '\", ' ', str(c))\n",
    "    anosFilmes.append(c)\n",
    "    \n",
    "#anosFilmes"
   ]
  },
  {
   "cell_type": "code",
   "execution_count": 8,
   "metadata": {},
   "outputs": [],
   "source": [
    "#Using re to create the complete link of the production\n",
    "#Example: http://www.imdb.com/title/tt0168786/?ref_=nm_flmg_prd_8 \n",
    "\n",
    "linkPart = \"http://www.imdb.com\"\n",
    "linksFilmes = []\n",
    "for num in nomeFilmeTudo:\n",
    "    id = nomeFilmeTudo.index(num)\n",
    "    a = re.findall(r'\"(.*?)\"', str(nomeFilmeTudo[id]))\n",
    "    a = re.sub(\"\\['\", '', str(a))\n",
    "    a = re.sub(\"\\']\", '', str(a))\n",
    "    a = linkPart + str(a)\n",
    "    linksFilmes.append(a) \n",
    "    #print(linkCompl)\n",
    "    \n",
    "#len(linksFilmes)\n",
    "#print (linksFilmes)"
   ]
  },
  {
   "cell_type": "code",
   "execution_count": 9,
   "metadata": {},
   "outputs": [],
   "source": [
    "#Data Cleaning using re to get movie titles \n",
    "titulosFilmes =[]\n",
    "for num in nomeFilmeTudo:\n",
    "    id = nomeFilmeTudo.index(num)\n",
    "    b = re.findall(r'>(.*?)<', str(nomeFilmeTudo[id]))\n",
    "    b = re.sub(\"\\['\", '', str(b))\n",
    "    b = re.sub(\"\\']\", '', str(b))\n",
    "    b = re.sub('\\[\"', '', str(b))\n",
    "    b = re.sub('\\\"]', '', str(b))\n",
    "    #a = linkPart + str(a)\n",
    "    titulosFilmes.append(b) \n",
    "    #print(linkCompl)\n",
    "\n",
    "#print (titulosFilmes)"
   ]
  },
  {
   "cell_type": "markdown",
   "metadata": {},
   "source": [
    "## Getting data about each production..."
   ]
  },
  {
   "cell_type": "code",
   "execution_count": 10,
   "metadata": {},
   "outputs": [],
   "source": [
    "#TESTES ANTES DAS FUNÇÕES\n",
    "#Para testar Funções...\n",
    "#con2 = requests.get('http://www.imdb.com/title/tt6000478/?ref_=nm_flmg_act_2') \n",
    "#soup2 = BeautifulSoup(con2.content, \"html.parser\")\n",
    "\n",
    "#Título do Filme\n",
    "#titFilme = [tag.find('h1', itemprop='name') for tag in soup2.findAll('div', class_='title_wrapper')]\n",
    "#titFilme = re.findall(r'>(.*?)<', str(titFilme))\n",
    "#print(titFilme[0])\n",
    "#print(\"===============\")\n",
    "\n",
    "#Ano do Filme\n",
    "#anoFilme = [tag.find('a') for tag in soup2.findAll('span', id_='titleYear')]\n",
    "#anoFilme = [tag.find('a') for tag in soup2.findAll('h1', itemprop='name')]\n",
    "#anoFilme = re.findall(r'>(.*?)<', str(anoFilme))\n",
    "#print(anoFilme[0])\n",
    "#print(\"++++++++++++\")\n",
    "\n",
    "#Genero\n",
    "#genero = [tag.find('span', itemprop='genre') for tag in soup2.findAll('div', class_='subtext')]\n",
    "#genero = re.findall(r'>(.*?)<', str(genero))\n",
    "#print (genero[0])\n",
    "#print(\"|||||||||||||\")\n",
    "# colocando os gêneros(se tiver + de 1) na mesma linha???\n",
    "\n",
    "#Nota IMDB\n",
    "#rating = [tag.find('span', itemprop='ratingValue') for tag in soup2.findAll('div', class_='ratingValue')]\n",
    "#rating = re.findall(r'>(.*?)<', str(rating))\n",
    "#print (rating[0])\n",
    "#print(\"----------------\")\n",
    "\n",
    "#Reviews\n",
    "#reviews = [tag.find('span', itemprop='ratingCount') for tag in soup2.findAll('div', class_='imdbRating')]\n",
    "#reviews = re.findall(r'>(.*?)<', str(reviews))\n",
    "#reviews = str.replace(',','',str(reviews))\n",
    "#print (reviews[0])\n",
    "#print(\"----------------\")\n",
    "\n",
    "#Duracao\n",
    "#duracao = [tag.find('time', itemprop='duration') for tag in soup2.findAll('div', class_='subtext')]\n",
    "#duracao = re.findall(r'\\d+', str(duracao))\n",
    "#print(duracao[0])\n",
    "#print(\"----------------\")\n",
    "\n",
    "#Nota Metascore\n",
    "#metascore = [tag.find('span') for tag in soup2.findAll('div', class_='metacriticScore score_mixed titleReviewBarSubItem')]\n",
    "#metascore = re.findall(r'>(.*?)<', str(metascore))\n",
    "#print(metascore[0])\n",
    "#print(\"----------------\")\n",
    "\n",
    "#Reviews Metascore - Usuarios\n",
    "#revMetascore = [tag.find('span') for tag in soup2.findAll('div', class_='titleReviewBarItem titleReviewbarItemBorder')]\n",
    "#revMetascore = re.findall(r'>(.*?)<', str(revMetascore))\n",
    "#revMetascore = re.findall(r'\\d+', str(revMetascore))\n",
    "#print(revMetascore[0])\n",
    "#print(revMetascore[1])\n",
    "#print(\"------++++++++-----\")\n",
    "\n",
    "#Diretor\n",
    "#diretor = [tag.find('span', itemprop='name') for tag in soup2.findAll('span', itemprop='director')]\n",
    "#diretor = re.findall(r'>(.*?)<', str(diretor))\n",
    "#print(diretor[0])\n",
    "#print(\"_______________\")\n",
    "\n",
    "#Roteirista\n",
    "#roteirista = [tag.find('span', itemprop='name') for tag in soup2.findAll('span', itemprop='creator')]\n",
    "#roteirista = re.findall(r'>(.*?)<', str(roteirista))\n",
    "#print(roteirista[0])\n",
    "#print(\"*****************\")"
   ]
  },
  {
   "cell_type": "code",
   "execution_count": 11,
   "metadata": {},
   "outputs": [],
   "source": [
    "#Year\n",
    "def pegaAno(soup):\n",
    "    #ano = soup.select(\"a[href*=/year/]\")\n",
    "    anoFilme = [tag.find('a') for tag in soup2.findAll('h1', itemprop='name')]\n",
    "    anoFilme = re.findall(r'>(.*?)<', str(anoFilme))\n",
    "    if len(anoFilme):\n",
    "        return int(anoFilme[0])\n",
    "    else:\n",
    "        return None\n",
    "\n",
    "#ano = pegaAno(soup2)\n",
    "#print(ano)"
   ]
  },
  {
   "cell_type": "code",
   "execution_count": 12,
   "metadata": {},
   "outputs": [],
   "source": [
    "#Genre\n",
    "#con2 = requests.get('https://www.imdb.com/title/tt3766354/?ref_=nm_flmg_act_1') \n",
    "#soup2 = BeautifulSoup(con2.content, \"html.parser\")\n",
    "\n",
    "def pegaGenero(soup):\n",
    "    #genFilme = [tag.find('span', itemprop='genre') for tag in soup2.findAll('div', class_='subtext')]\n",
    "    genFilme = [tag.find('a') for tag in soup2.findAll('div', itemprop='genre')]\n",
    "    genFilme = re.findall(r'>(.*?)<', str(genFilme))\n",
    "    if len(genFilme):\n",
    "        return str(genFilme[0])\n",
    "    else:\n",
    "        return None\n",
    "    \n",
    "#genero = pegaGenero(soup2)\n",
    "#print(genero)"
   ]
  },
  {
   "cell_type": "code",
   "execution_count": 13,
   "metadata": {},
   "outputs": [],
   "source": [
    "#IMDb Score\n",
    "def pegaNotaIMDB(soup):\n",
    "    ratFilme = [tag.find('span', itemprop='ratingValue') for tag in soup2.findAll('div', class_='ratingValue')]\n",
    "    ratFilme = re.findall(r'>(.*?)<', str(ratFilme))\n",
    "    if len(ratFilme):\n",
    "        return str(ratFilme[0])\n",
    "    else:\n",
    "        return None\n",
    "    \n",
    "#rating = pegaNotaIMDB(soup2)\n",
    "#print(rating)"
   ]
  },
  {
   "cell_type": "code",
   "execution_count": 14,
   "metadata": {},
   "outputs": [],
   "source": [
    "#Reviews\n",
    "#con2 = requests.get('http://www.imdb.com/title/tt6000478/?ref_=nm_flmg_act_2') \n",
    "#soup2 = BeautifulSoup(con2.content, \"html.parser\")\n",
    "def pegaReviewIMDB(soup):\n",
    "    revFilme = [tag.find('span', itemprop='ratingCount') for tag in soup2.findAll('div', class_='imdbRating')]\n",
    "    revFilme = re.findall(r'>(.*?)<', str(revFilme))\n",
    "    if len(revFilme):\n",
    "        revFilme[0] = re.sub(',', '', str(revFilme[0]))\n",
    "        return int(revFilme[0])\n",
    "    else:\n",
    "        return None\n",
    "    \n",
    "#review = pegaReviewIMDB(soup2)\n",
    "#print(review)"
   ]
  },
  {
   "cell_type": "code",
   "execution_count": 15,
   "metadata": {},
   "outputs": [],
   "source": [
    "#Duration\n",
    "def pegaDuracao(soup):\n",
    "    durFilme = [tag.find('time', itemprop='duration') for tag in soup2.findAll('div', class_='subtext')]\n",
    "    durFilme = re.findall(r'\\d+', str(durFilme))\n",
    "    if len(durFilme):\n",
    "        return int(durFilme[0])\n",
    "    else:\n",
    "        return None\n",
    "    \n",
    "#duracao = pegaDuracao(soup2)\n",
    "#print(duracao)"
   ]
  },
  {
   "cell_type": "code",
   "execution_count": 16,
   "metadata": {},
   "outputs": [],
   "source": [
    "#Metacritic Score (Metascore)\n",
    "\n",
    "#Conexão com filmes indicando o link de cada um no loop...\n",
    "#con3 = requests.get('http://www.imdb.com/title/tt0454848/?ref_=nm_flmg_act_15')\n",
    "#con3 = requests.get('http://www.imdb.com/title/tt0119099/?ref_=nm_flmg_act_27')\n",
    "#soup3 = BeautifulSoup(con3.content, \"html.parser\")\n",
    "#con3.close()\n",
    "\n",
    "def pegaNotaMetaScore(soup):\n",
    "    notaFilme = [tag.find('span') for tag in soup.findAll('div', class_='metacriticScore score_mixed titleReviewBarSubItem')]\n",
    "    notaFilme = re.findall(r'>(.*?)<', str(notaFilme))\n",
    "    notaFilme2 = [tag.find('span') for tag in soup.findAll('div', class_='metacriticScore score_favorable titleReviewBarSubItem')]\n",
    "    notaFilme2 = re.findall(r'>(.*?)<', str(notaFilme2))\n",
    "    notaFilme3 = [tag.find('span') for tag in soup.findAll('div', class_='metacriticScore score_unfavorable titleReviewBarSubItem')]\n",
    "    notaFilme3 = re.findall(r'>(.*?)<', str(notaFilme3))\n",
    "    if len(notaFilme):\n",
    "        return int(notaFilme[0])\n",
    "    elif len(notaFilme2):\n",
    "        return int(notaFilme2[0])\n",
    "    elif len(notaFilme3):\n",
    "        return int(notaFilme3[0])\n",
    "    else:\n",
    "        return None\n",
    "        \n",
    "#notaMeta = pegaNotaMetaScore(soup3)\n",
    "#print(notaMeta)"
   ]
  },
  {
   "cell_type": "code",
   "execution_count": 17,
   "metadata": {},
   "outputs": [],
   "source": [
    "#Synopsis\n",
    "#Conexão com filmes indicando o link de cada um no loop...\n",
    "#con3 = requests.get('http://www.imdb.com/title/tt0454848/?ref_=nm_flmg_act_15')  \n",
    "#soup3 = BeautifulSoup(con3.content, \"html.parser\")\n",
    "#con3.close()\n",
    "\n",
    "def pegaSinopse(soup):\n",
    "    #sinFilme = [tag.find('div', class_='summary_text') for tag in soup.findAll('div', class_='plot_summary')]\n",
    "    #sinFilme = re.findall(r'>(.*?)<', str(sinFilme))\n",
    "    sinFilme = soup.find('div', class_='summary_text')\n",
    "    if len(sinFilme):\n",
    "        return str(sinFilme.text)\n",
    "    else:\n",
    "        return None\n",
    "        \n",
    "#sinopse = pegaSinopse(soup3)\n",
    "#print(sinopse)"
   ]
  },
  {
   "cell_type": "code",
   "execution_count": 18,
   "metadata": {},
   "outputs": [],
   "source": [
    "#Metascore Reviews - Users\n",
    "def pegaRevMetaScoreUser(soup):\n",
    "    revScore = [tag.find('span') for tag in soup2.findAll('div', class_='titleReviewBarItem titleReviewbarItemBorder')]\n",
    "    revScore = re.findall(r'>(.*?)<', str(revScore))\n",
    "    revScore = re.findall(r'\\d+', str(revScore))\n",
    "    if len(revScore):\n",
    "        return int(revScore[0])\n",
    "    else:\n",
    "        return None\n",
    "    \n",
    "#notaMeta = pegaRevMetaScoreUser(soup2)\n",
    "#print(notaMeta)"
   ]
  },
  {
   "cell_type": "code",
   "execution_count": 19,
   "metadata": {},
   "outputs": [],
   "source": [
    "#Metascore Reviews - Critics\n",
    "def pegaRevMetaScoreCrit(soup):\n",
    "    revCrit = [tag.find('span') for tag in soup2.findAll('div', class_='titleReviewBarItem titleReviewbarItemBorder')]\n",
    "    revCrit = re.findall(r'>(.*?)<', str(revCrit))\n",
    "    revCrit = re.findall(r'\\d+', str(revCrit))\n",
    "    if len(revCrit):\n",
    "        return int(revCrit[1])\n",
    "    else:\n",
    "        return None\n",
    "    \n",
    "#crit = pegaRevMetaScoreCrit(soup2)\n",
    "#print(crit)"
   ]
  },
  {
   "cell_type": "code",
   "execution_count": 20,
   "metadata": {},
   "outputs": [],
   "source": [
    "#Director\n",
    "def pegaDiretor(soup):\n",
    "    diretorFilme = [tag.find('span', itemprop='name') for tag in soup2.findAll('span', itemprop='director')]\n",
    "    diretorFilme = re.findall(r'>(.*?)<', str(diretorFilme))\n",
    "    if len(diretorFilme):\n",
    "        return str(diretorFilme[0])\n",
    "    else:\n",
    "        return None\n",
    "    \n",
    "#diretor = pegaDiretor(soup2)\n",
    "#print(diretor)"
   ]
  },
  {
   "cell_type": "code",
   "execution_count": 21,
   "metadata": {},
   "outputs": [],
   "source": [
    "#Writer\n",
    "def pegaRoteirista(soup):\n",
    "    roteiristaFilme = [tag.find('span', itemprop='name') for tag in soup2.findAll('span', itemprop='creator')]\n",
    "    roteiristaFilme = re.findall(r'>(.*?)<', str(roteiristaFilme))\n",
    "    if len(roteiristaFilme):\n",
    "        return str(roteiristaFilme[0])\n",
    "    else:\n",
    "        return None\n",
    "    \n",
    "#roteirista = pegaRoteirista(soup2)\n",
    "#print(roteirista)"
   ]
  },
  {
   "cell_type": "code",
   "execution_count": null,
   "metadata": {},
   "outputs": [],
   "source": [
    "#Locations\n",
    "#con3 = requests.get('https://www.imdb.com/title/tt0455944/?ref_=nm_flmg_act_5')  \n",
    "#soup3 = BeautifulSoup(con3.content, \"html.parser\")\n",
    "#con3.close()\n",
    "def pegaLocacao(soup):\n",
    "    #locacaoFilme = [tag.find('h4', class_='inline') for tag in soup3.findAll('div', class_='txt-block')]\n",
    "    locacaoFilme = soup3.findAll('div', class_='txt-block')\n",
    "    locacaoFilme = locacaoFilme[8].get_text()\n",
    "    #locacaoFilme = re.findall(r'(\\:\\).*?)\\n', str(locacaoFilme))\n",
    "    if len(locacaoFilme):\n",
    "        return str(locacaoFilme)\n",
    "    else:\n",
    "        return None\n",
    "    \n",
    "#locacao = pegaLocacao(soup3)\n",
    "#print(locacao)"
   ]
  },
  {
   "cell_type": "code",
   "execution_count": 37,
   "metadata": {},
   "outputs": [
    {
     "name": "stdout",
     "output_type": "stream",
     "text": [
      "18\n",
      "25188006 * [] * [] * []\n"
     ]
    }
   ],
   "source": [
    "#BUDGET\n",
    "#Opening Weekend USA\n",
    "#Gross USA\n",
    "#Cumulative Gross Worldwide\n",
    "\n",
    "#con3 = requests.get('https://www.imdb.com/title/tt0455944/?ref_=nm_flmg_act_5')  \n",
    "#con3 = requests.get('https://www.imdb.com/title/tt0088146/?ref_=nm_flmg_act_51')\n",
    "con3 = requests.get('https://www.imdb.com/title/tt0119099/?ref_=nm_flmg_act_27')\n",
    "#con3 = requests.get('https://www.imdb.com/title/tt0111996/?ref_=nm_flmg_act_28')\n",
    "soup3 = BeautifulSoup(con3.content, \"html.parser\")\n",
    "con3.close()\n",
    "\n",
    "def pegaBudgetGross(soup):\n",
    "    #budgetFilme = [tag.find('div', class_='article') for tag in soup3.findAll('div', class_='txt-block')]\n",
    "    #budgetFilme = [tag.find('h4', class_='inline') for tag in soup3.findAll('div', class_='txt-block')]    \n",
    "    valoresFilme = soup.findAll('div', class_='txt-block') \n",
    "    r = len(valoresFilme)\n",
    "    print(r)\n",
    "    \n",
    "    \n",
    "    budgetFilme = valoresFilme[9].get_text() if len(valoresFilme)>9 else ''\n",
    "    openWeekFilme = valoresFilme[10].get_text() if len(valoresFilme)>10 else ''\n",
    "    grossFilme = valoresFilme[11].get_text() if len(valoresFilme)>11 else ''\n",
    "    cumWorldGross = valoresFilme[12].get_text() if len(valoresFilme)>12 else ''\n",
    "\n",
    "    def limpaStringVoltaInt(string):\n",
    "        #tratando valores com re\n",
    "        string = re.findall('(\\d+),(\\d+),(\\d+)', str(string))\n",
    "        string = re.sub(',', '', str(string))\n",
    "        string = re.sub('\\'', '', str(string))\n",
    "        string = re.sub(\"\\s\", \"\", str(string))\n",
    "        string = re.sub(\"\\[\\(\", \"\", str(string))\n",
    "        string = re.sub(\"\\)\\]\", \"\", str(string))\n",
    "        return string\n",
    "     \n",
    "   \n",
    "    budgetFilme = limpaStringVoltaInt(budgetFilme)\n",
    "    openWeekFilme = limpaStringVoltaInt(openWeekFilme)\n",
    "    grossFilme = limpaStringVoltaInt(grossFilme)\n",
    "    cumWorldGross = limpaStringVoltaInt(cumWorldGross)\n",
    "    \n",
    "    if len(valoresFilme):\n",
    "        return (budgetFilme,openWeekFilme,grossFilme,cumWorldGross)\n",
    "    else:\n",
    "        return None\n",
    "    \n",
    "#a,b,c,d = pegaBudgetGross(soup3)\n",
    "#print(a,'*',b,'*',c,'*',d)\n"
   ]
  },
  {
   "cell_type": "code",
   "execution_count": 29,
   "metadata": {},
   "outputs": [
    {
     "name": "stdout",
     "output_type": "stream",
     "text": [
      "O Protetor 2, http://www.imdb.com/title/tt3766354/?ref_=nm_flmg_act_1\n",
      "Roman J. Israel, Esq., http://www.imdb.com/title/tt6000478/?ref_=nm_flmg_act_2\n",
      "Um Limite Entre Nós, http://www.imdb.com/title/tt2671706/?ref_=nm_flmg_act_3\n",
      "Sete Homens e um Destino, http://www.imdb.com/title/tt2404435/?ref_=nm_flmg_act_4\n",
      "O Protetor, http://www.imdb.com/title/tt0455944/?ref_=nm_flmg_act_5\n",
      "Dose Dupla, http://www.imdb.com/title/tt1272878/?ref_=nm_flmg_act_6\n",
      "O Voo, http://www.imdb.com/title/tt1907668/?ref_=nm_flmg_act_7\n",
      "Protegendo o Inimigo, http://www.imdb.com/title/tt1599348/?ref_=nm_flmg_act_8\n",
      "Incontrolável, http://www.imdb.com/title/tt0477080/?ref_=nm_flmg_act_9\n",
      "O Livro de Eli, http://www.imdb.com/title/tt1037705/?ref_=nm_flmg_act_10\n",
      "O Sequestro do Metrô 123, http://www.imdb.com/title/tt1111422/?ref_=nm_flmg_act_11\n",
      "O Grande Debate, http://www.imdb.com/title/tt0427309/?ref_=nm_flmg_act_12\n",
      "O Gângster, http://www.imdb.com/title/tt0765429/?ref_=nm_flmg_act_13\n",
      "Déjà Vu, http://www.imdb.com/title/tt0453467/?ref_=nm_flmg_act_14\n",
      "O Plano Perfeito, http://www.imdb.com/title/tt0454848/?ref_=nm_flmg_act_15\n",
      "Sob o Domínio do Mal, http://www.imdb.com/title/tt0368008/?ref_=nm_flmg_act_16\n",
      "Chamas da Vingança, http://www.imdb.com/title/tt0328107/?ref_=nm_flmg_act_17\n",
      "Por um Triz, http://www.imdb.com/title/tt0313443/?ref_=nm_flmg_act_18\n",
      "Voltando a Viver, http://www.imdb.com/title/tt0168786/?ref_=nm_flmg_act_19\n",
      "Um Ato de Coragem, http://www.imdb.com/title/tt0251160/?ref_=nm_flmg_act_20\n",
      "Dia de Treinamento, http://www.imdb.com/title/tt0139654/?ref_=nm_flmg_act_21\n",
      "Duelo de Titãs, http://www.imdb.com/title/tt0210945/?ref_=nm_flmg_act_22\n",
      "Hurricane, o Furacão, http://www.imdb.com/title/tt0174856/?ref_=nm_flmg_act_23\n",
      "O Colecionador de Ossos, http://www.imdb.com/title/tt0145681/?ref_=nm_flmg_act_24\n",
      "Nova York Sitiada, http://www.imdb.com/title/tt0133952/?ref_=nm_flmg_act_25\n",
      "Jogada Decisiva, http://www.imdb.com/title/tt0124718/?ref_=nm_flmg_act_26\n",
      "Possuídos, http://www.imdb.com/title/tt0119099/?ref_=nm_flmg_act_27\n"
     ]
    },
    {
     "ename": "IndexError",
     "evalue": "list index out of range",
     "output_type": "error",
     "traceback": [
      "\u001b[1;31m---------------------------------------------------------------------------\u001b[0m",
      "\u001b[1;31mIndexError\u001b[0m                                Traceback (most recent call last)",
      "\u001b[1;32m<ipython-input-29-b5c18a5b1819>\u001b[0m in \u001b[0;36m<module>\u001b[1;34m()\u001b[0m\n\u001b[0;32m     25\u001b[0m     \u001b[0mfilm\u001b[0m\u001b[1;33m[\u001b[0m\u001b[1;34m'Nota Metascore'\u001b[0m\u001b[1;33m]\u001b[0m \u001b[1;33m=\u001b[0m \u001b[0mpegaNotaMetaScore\u001b[0m\u001b[1;33m(\u001b[0m\u001b[0msoup2\u001b[0m\u001b[1;33m)\u001b[0m\u001b[1;33m\u001b[0m\u001b[0m\n\u001b[0;32m     26\u001b[0m     \u001b[0mfilm\u001b[0m\u001b[1;33m[\u001b[0m\u001b[1;34m'Qtd Rev Metascore'\u001b[0m\u001b[1;33m]\u001b[0m \u001b[1;33m=\u001b[0m \u001b[0mpegaRevMetaScoreUser\u001b[0m\u001b[1;33m(\u001b[0m\u001b[0msoup2\u001b[0m\u001b[1;33m)\u001b[0m\u001b[1;33m\u001b[0m\u001b[0m\n\u001b[1;32m---> 27\u001b[1;33m     \u001b[0mfilm\u001b[0m\u001b[1;33m[\u001b[0m\u001b[1;34m'Budget'\u001b[0m\u001b[1;33m]\u001b[0m\u001b[1;33m,\u001b[0m\u001b[0mfilm\u001b[0m\u001b[1;33m[\u001b[0m\u001b[1;34m'Opening Weekend USA'\u001b[0m\u001b[1;33m]\u001b[0m\u001b[1;33m,\u001b[0m\u001b[0mfilm\u001b[0m\u001b[1;33m[\u001b[0m\u001b[1;34m'Gross USA'\u001b[0m\u001b[1;33m]\u001b[0m\u001b[1;33m,\u001b[0m\u001b[0mfilm\u001b[0m\u001b[1;33m[\u001b[0m\u001b[1;34m'Cumulative Worldwide Gross'\u001b[0m\u001b[1;33m]\u001b[0m \u001b[1;33m=\u001b[0m \u001b[0mpegaBudgetGross\u001b[0m\u001b[1;33m(\u001b[0m\u001b[0msoup2\u001b[0m\u001b[1;33m)\u001b[0m\u001b[1;33m\u001b[0m\u001b[0m\n\u001b[0m\u001b[0;32m     28\u001b[0m     \u001b[0mfilm\u001b[0m\u001b[1;33m[\u001b[0m\u001b[1;34m'Sinopse'\u001b[0m\u001b[1;33m]\u001b[0m \u001b[1;33m=\u001b[0m \u001b[0mpegaSinopse\u001b[0m\u001b[1;33m(\u001b[0m\u001b[0msoup2\u001b[0m\u001b[1;33m)\u001b[0m\u001b[1;33m\u001b[0m\u001b[0m\n\u001b[0;32m     29\u001b[0m     \u001b[1;31m##film['Qtd Rev Metascore Criticos'] = pegaRevMetaScoreCrit(soup2)  #========> Ajustar\u001b[0m\u001b[1;33m\u001b[0m\u001b[1;33m\u001b[0m\u001b[0m\n",
      "\u001b[1;32m<ipython-input-27-26989156eee4>\u001b[0m in \u001b[0;36mpegaBudgetGross\u001b[1;34m(soup)\u001b[0m\n\u001b[0;32m     15\u001b[0m     \u001b[0mbudgetFilme\u001b[0m \u001b[1;33m=\u001b[0m \u001b[0mvaloresFilme\u001b[0m\u001b[1;33m[\u001b[0m\u001b[1;36m9\u001b[0m\u001b[1;33m]\u001b[0m\u001b[1;33m.\u001b[0m\u001b[0mget_text\u001b[0m\u001b[1;33m(\u001b[0m\u001b[1;33m)\u001b[0m \u001b[1;32mif\u001b[0m \u001b[0mlen\u001b[0m\u001b[1;33m(\u001b[0m\u001b[0mvaloresFilme\u001b[0m\u001b[1;33m[\u001b[0m\u001b[1;36m9\u001b[0m\u001b[1;33m]\u001b[0m\u001b[1;33m)\u001b[0m \u001b[1;32melse\u001b[0m \u001b[1;36m0\u001b[0m\u001b[1;33m\u001b[0m\u001b[0m\n\u001b[0;32m     16\u001b[0m     \u001b[0mopenWeekFilme\u001b[0m \u001b[1;33m=\u001b[0m \u001b[0mvaloresFilme\u001b[0m\u001b[1;33m[\u001b[0m\u001b[1;36m10\u001b[0m\u001b[1;33m]\u001b[0m\u001b[1;33m.\u001b[0m\u001b[0mget_text\u001b[0m\u001b[1;33m(\u001b[0m\u001b[1;33m)\u001b[0m \u001b[1;32mif\u001b[0m \u001b[0mlen\u001b[0m\u001b[1;33m(\u001b[0m\u001b[0mvaloresFilme\u001b[0m\u001b[1;33m[\u001b[0m\u001b[1;36m10\u001b[0m\u001b[1;33m]\u001b[0m\u001b[1;33m)\u001b[0m \u001b[1;32melse\u001b[0m \u001b[1;36m0\u001b[0m\u001b[1;33m\u001b[0m\u001b[0m\n\u001b[1;32m---> 17\u001b[1;33m     \u001b[0mgrossFilme\u001b[0m \u001b[1;33m=\u001b[0m \u001b[0mvaloresFilme\u001b[0m\u001b[1;33m[\u001b[0m\u001b[1;36m11\u001b[0m\u001b[1;33m]\u001b[0m\u001b[1;33m.\u001b[0m\u001b[0mget_text\u001b[0m\u001b[1;33m(\u001b[0m\u001b[1;33m)\u001b[0m \u001b[1;32mif\u001b[0m \u001b[0mlen\u001b[0m\u001b[1;33m(\u001b[0m\u001b[0mvaloresFilme\u001b[0m\u001b[1;33m[\u001b[0m\u001b[1;36m11\u001b[0m\u001b[1;33m]\u001b[0m\u001b[1;33m)\u001b[0m \u001b[1;32melse\u001b[0m \u001b[1;36m0\u001b[0m\u001b[1;33m\u001b[0m\u001b[0m\n\u001b[0m\u001b[0;32m     18\u001b[0m     \u001b[0mcumWorldGross\u001b[0m \u001b[1;33m=\u001b[0m \u001b[0mvaloresFilme\u001b[0m\u001b[1;33m[\u001b[0m\u001b[1;36m12\u001b[0m\u001b[1;33m]\u001b[0m\u001b[1;33m.\u001b[0m\u001b[0mget_text\u001b[0m\u001b[1;33m(\u001b[0m\u001b[1;33m)\u001b[0m \u001b[1;32mif\u001b[0m \u001b[0mlen\u001b[0m\u001b[1;33m(\u001b[0m\u001b[0mvaloresFilme\u001b[0m\u001b[1;33m[\u001b[0m\u001b[1;36m12\u001b[0m\u001b[1;33m]\u001b[0m\u001b[1;33m)\u001b[0m \u001b[1;32melse\u001b[0m \u001b[1;36m0\u001b[0m\u001b[1;33m\u001b[0m\u001b[0m\n\u001b[0;32m     19\u001b[0m \u001b[1;33m\u001b[0m\u001b[0m\n",
      "\u001b[1;31mIndexError\u001b[0m: list index out of range"
     ]
    }
   ],
   "source": [
    "#Function to get data from productions\n",
    "#con2 = requests.get('http://www.imdb.com/title/tt6000478/?ref_=nm_flmg_act_2') \n",
    "#soup2 = BeautifulSoup(con2.content, \"html.parser\")\n",
    "\n",
    "qtdFilmAct = 56 #Qtt of productions Denzel act... parameter ref_=nm_flmg_act_x indicates that on link \n",
    "film = {}\n",
    "listaFilmes = []\n",
    "\n",
    "for i in range(qtdFilmAct):\n",
    "    \n",
    "    #Loop to connect and get data from each production...\n",
    "    con2 = requests.get(linksFilmes[i])  #http://www.imdb.com/title/tt2671706/?ref_=nm_flmg_act_3\n",
    "    soup2 = BeautifulSoup(con2.content, \"html.parser\")\n",
    "    con2.close()\n",
    "    \n",
    "    film['Titulo'] = titulosFilmes[i]\n",
    "    film['Link'] = linksFilmes[i]\n",
    "    film['Ano'] = pegaAno(soup2)\n",
    "    film['Genero'] = pegaGenero(soup2)\n",
    "    film['Duracao'] = pegaDuracao(soup2)\n",
    "    film['Diretor'] = pegaDiretor(soup2)\n",
    "    film['Roteirista'] = pegaRoteirista(soup2)\n",
    "    film['Nota IMDB'] = pegaNotaIMDB(soup2)\n",
    "    film['Qtd Rev IMDB'] = pegaReviewIMDB(soup2)\n",
    "    film['Nota Metascore'] = pegaNotaMetaScore(soup2)\n",
    "    film['Qtd Rev Metascore'] = pegaRevMetaScoreUser(soup2)\n",
    "    #film['Budget'],film['Opening Weekend USA'],film['Gross USA'],film['Cumulative Worldwide Gross'] = pegaBudgetGross(soup2) #========> not ready yet  \n",
    "    film['Sinopse'] = pegaSinopse(soup2)\n",
    "    ##film['Qtd Rev Metascore Criticos'] = pegaRevMetaScoreCrit(soup2)  #========> not ready yet\n",
    "    \n",
    "    listaFilmes.append(film.copy()) #Adding dict on a list\n",
    "    #print(titulosFilmes[i] + ', ' + linksFilmes[i])"
   ]
  },
  {
   "cell_type": "code",
   "execution_count": null,
   "metadata": {},
   "outputs": [],
   "source": [
    "#Creating new Dataframe\n",
    "dfFilme = pd.DataFrame(listaFilmes, columns=[\n",
    "    'Titulo','Ano','Genero','Duracao','Diretor','Roteirista','Nota IMDB','Qtd Rev IMDB','Nota Metascore','Qtd Rev Metascore',\n",
    "    'Sinopse','Link'\n",
    "])\n",
    "\n",
    "#In Progress...\n",
    "#dfFilme = pd.DataFrame(listaFilmes, columns=[\n",
    "#    'Titulo','Ano','Genero','Duracao','Diretor','Roteirista','Nota IMDB','Qtd Rev IMDB','Nota Metascore','Qtd Rev Metascore',\n",
    "#    'Budget','Opening Weekend USA','Gross USA','Cumulative Worldwide Gross','Sinopse','Link'\n",
    "#])\n",
    "\n",
    "\n",
    "#dfFilme"
   ]
  },
  {
   "cell_type": "code",
   "execution_count": null,
   "metadata": {},
   "outputs": [],
   "source": [
    "dfFilme.dtypes"
   ]
  },
  {
   "cell_type": "code",
   "execution_count": null,
   "metadata": {},
   "outputs": [],
   "source": [
    "#filling NaN values with zero\n",
    "dfFilme['Ano'].fillna(value=0, inplace=True)\n",
    "dfFilme['Duracao'].fillna(value=0, inplace=True)\n",
    "dfFilme['Qtd Rev IMDB'].fillna(value=0, inplace=True)\n",
    "dfFilme['Nota Metascore'].fillna(value=0, inplace=True)\n",
    "dfFilme['Qtd Rev Metascore'].fillna(value=0, inplace=True)"
   ]
  },
  {
   "cell_type": "code",
   "execution_count": null,
   "metadata": {},
   "outputs": [],
   "source": [
    "#Treating dataframe values \n",
    "dfFilme['Ano'] = dfFilme['Ano'].astype(int)\n",
    "dfFilme['Duracao'] = dfFilme['Duracao'].astype(int)\n",
    "dfFilme['Qtd Rev IMDB'] = dfFilme['Qtd Rev IMDB'].astype(int)\n",
    "dfFilme['Qtd Rev IMDB'] = dfFilme['Qtd Rev IMDB'].astype(int)\n",
    "dfFilme['Nota Metascore'] = dfFilme['Nota Metascore'].astype(int)\n",
    "dfFilme['Qtd Rev Metascore'] = dfFilme['Qtd Rev Metascore'].astype(int)\n",
    "\n",
    "dfFilme.dtypes"
   ]
  },
  {
   "cell_type": "code",
   "execution_count": null,
   "metadata": {},
   "outputs": [],
   "source": [
    "dfFilme"
   ]
  },
  {
   "cell_type": "code",
   "execution_count": null,
   "metadata": {},
   "outputs": [],
   "source": [
    "#Saving Dataframe to a .csv file\n",
    "dfFilme.to_csv('filmes_denzel.csv', sep=';', index=False)"
   ]
  },
  {
   "cell_type": "code",
   "execution_count": null,
   "metadata": {},
   "outputs": [],
   "source": []
  }
 ],
 "metadata": {
  "anaconda-cloud": {},
  "kernelspec": {
   "display_name": "Python [conda root]",
   "language": "python",
   "name": "conda-root-py"
  },
  "language_info": {
   "codemirror_mode": {
    "name": "ipython",
    "version": 3
   },
   "file_extension": ".py",
   "mimetype": "text/x-python",
   "name": "python",
   "nbconvert_exporter": "python",
   "pygments_lexer": "ipython3",
   "version": "3.5.4"
  }
 },
 "nbformat": 4,
 "nbformat_minor": 2
}
